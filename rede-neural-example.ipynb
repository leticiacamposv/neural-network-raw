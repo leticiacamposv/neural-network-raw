{
 "cells": [
  {
   "cell_type": "code",
   "execution_count": 1,
   "id": "a0baa4ce",
   "metadata": {},
   "outputs": [],
   "source": [
    "import pandas as pd\n",
    "import numpy as np\n",
    "import os.path\n",
    "from datetime import date, datetime\n",
    "from sklearn.preprocessing import LabelEncoder, MinMaxScaler\n",
    "from sklearn.model_selection import train_test_split\n",
    "from sklearn.metrics import r2_score, max_error\n",
    "import matplotlib.pyplot as plt"
   ]
  },
  {
   "cell_type": "markdown",
   "id": "0ddf19e6",
   "metadata": {},
   "source": [
    "## Funções de ativação"
   ]
  },
  {
   "cell_type": "code",
   "execution_count": 2,
   "id": "5ded6670",
   "metadata": {},
   "outputs": [],
   "source": [
    "def linear(x, derivative=False):\n",
    "    return np.ones_like(x) if derivative else x\n",
    "\n",
    "def sigmoid(x, derivative=False):\n",
    "    if derivative:\n",
    "        y = sigmoid(x)\n",
    "        return y*(1 - y)\n",
    "    return 1.0/(1.0 + np.exp(-x))\n",
    "\n",
    "def tanh(x, derivative=False):\n",
    "    if derivative:\n",
    "        y = tanh(x)\n",
    "        return 1 - y**2\n",
    "    return (np.exp(x) - np.exp(-x))/(np.exp(x) + np.exp(-x))\n",
    "\n",
    "def relu(x, derivative=False):\n",
    "    if derivative:\n",
    "        return np.where(x <= 0, 0, 1)\n",
    "    return np.maximum(0, x)\n",
    "\n",
    "def leaky_relu(x, derivative=False):\n",
    "    alpha = 0.1\n",
    "    if derivative:\n",
    "        return np.where(x <= 0, alpha, 1)\n",
    "    return np.where(x <= 0, alpha*x, x)\n",
    "\n",
    "def elu(x, derivative=False):\n",
    "    alpha = 1.0\n",
    "    if derivative:\n",
    "        y = elu(x)\n",
    "        return np.where(x <= 0, y + alpha, 1)\n",
    "    return np.where(x <= 0, alpha*(np.exp(x) - 1), x)"
   ]
  },
  {
   "cell_type": "markdown",
   "id": "f5f4b3e9",
   "metadata": {},
   "source": [
    "## Funções de custo"
   ]
  },
  {
   "cell_type": "code",
   "execution_count": 3,
   "id": "3c829354",
   "metadata": {},
   "outputs": [],
   "source": [
    "def mae(y, y_pred, derivative=False):\n",
    "    if derivative:\n",
    "        return np.where(y_pred > y, 1, -1) / y.shape[0]\n",
    "    return np.mean(np.abs(y - y_pred))\n",
    "\n",
    "def mse(y, y_pred, derivative=False):\n",
    "    if derivative:\n",
    "        return -(y - y_pred) / y.shape[0]\n",
    "    return 0.5*np.mean((y - y_pred)**2)"
   ]
  },
  {
   "cell_type": "markdown",
   "id": "da2df1a2",
   "metadata": {},
   "source": [
    "## Inicialização de pesos"
   ]
  },
  {
   "cell_type": "code",
   "execution_count": 4,
   "id": "d22d03cd",
   "metadata": {},
   "outputs": [],
   "source": [
    "def zeros(rows,cols):\n",
    "    return np.zeros((rows,cols))\n",
    "\n",
    "def ones(rows,cols):\n",
    "    return np.ones((rows,cols))\n",
    "\n",
    "def random_normal(rows,cols):\n",
    "    return np.random.randn(rows, cols)\n",
    "\n",
    "def random_uniform(rows,cols):\n",
    "    return np.random.rand(rows, cols)\n",
    "\n",
    "def glorot_normal(rows,cols):\n",
    "    std_dev = np.sqrt(2.0 / (rows + cols))\n",
    "    return std_dev * np.random.randn(rows, cols)\n",
    "\n",
    "def glorot_uniform(rows,cols):\n",
    "    limit = np.sqrt(6.0 / (rows + cols))\n",
    "    return 2*limit*np.random.randn(rows, cols)-limit"
   ]
  },
  {
   "cell_type": "markdown",
   "id": "6147734c",
   "metadata": {},
   "source": [
    "## Regularização"
   ]
  },
  {
   "cell_type": "code",
   "execution_count": 5,
   "id": "585374f3",
   "metadata": {},
   "outputs": [],
   "source": [
    "def l1_regularization(weights, derivative=False):\n",
    "    if derivative:\n",
    "        weights = [np.where(w<0, -1, w) for w in weights]\n",
    "        return np.array([np.where(w>0, 1,w) for w in weights])\n",
    "    return np.sum([np.sum(np.abs(w)) for w in weights])\n",
    "\n",
    "def l2_regularization(weights, derivative=False):\n",
    "    if derivative:\n",
    "        return weights\n",
    "    return 0.5 * np.sum(weights**2)"
   ]
  },
  {
   "cell_type": "markdown",
   "id": "fcfc1aa0",
   "metadata": {},
   "source": [
    "# Implementação da rede neural"
   ]
  },
  {
   "cell_type": "code",
   "execution_count": 6,
   "id": "cddfb3f8",
   "metadata": {},
   "outputs": [],
   "source": [
    "class Layer():\n",
    "    def __init__(self, input_dim, output_dim, activation=linear, weights_initializer=random_normal, biases_initializer=ones, dropout_prob = 0, reg_func=l2_regularization, reg_strenght=0.0):\n",
    "        self.input = None\n",
    "        self.weights = weights_initializer(output_dim, input_dim)\n",
    "        self.biases = biases_initializer(1, output_dim)\n",
    "        self.activation = activation\n",
    "        self.dropout_prob = dropout_prob\n",
    "        \n",
    "        self._activ_inp, self._activ_out = None, None\n",
    "        self._dweights, self._dbiases = None, None\n",
    "        self.dropout_mask = None\n",
    "        \n",
    "        self.reg_func = reg_func\n",
    "        self.reg_strenght = reg_strenght\n",
    "\n",
    "class NeuralNetwork():\n",
    "    def __init__(self, cost_func=mse, learning_rate=1e-3):\n",
    "        self.layers = []\n",
    "        self.cost_func = cost_func\n",
    "        self.learning_rate = learning_rate\n",
    "        \n",
    "    def fit(self, x_train, y_train, epochs=100, verbose=10):\n",
    "        for epoch in range(epochs+1):\n",
    "            y_pred = self.__feedforward(x_train)\n",
    "            self.__backprop(y_train, y_pred)\n",
    "\n",
    "            # Função de custo\n",
    "            if epoch % verbose == 0:\n",
    "                loss_train = self.cost_func(y_train, self.predict(x_train))\n",
    "                loss_reg = (1.0 / y_train.shape[0]) * np.sum([layer.reg_strenght * layer.reg_func(layer.weights) for layer in self.layers])\n",
    "                print(\"epoch: {0:=4}/{1} loss_train: {2:.8f}\".format(epoch, epochs, loss_train))\n",
    "\n",
    "    def predict(self, x):\n",
    "        return self.__feedforward(x, is_training=False)\n",
    "\n",
    "    def __feedforward(self, x, is_training=True):\n",
    "        self.layers[0].input = x\n",
    "        for current_layer, next_layer in zip(self.layers, self.layers[1:] + [Layer(0, 0)]):\n",
    "            y = np.dot(current_layer.input, current_layer.weights.T) + current_layer.biases\n",
    "            current_layer._dropout_mask = np.random.binomial(1, 1.0-current_layer.dropout_prob, y.shape) / (1.0-current_layer.dropout_prob)\n",
    "            current_layer._activ_inp = y\n",
    "            current_layer._activ_out = current_layer.activation(y) * (current_layer._dropout_mask if is_training else 1.0)\n",
    "            next_layer.input = current_layer._activ_out\n",
    "        return self.layers[-1]._activ_out\n",
    "\n",
    "    def __backprop(self, y, y_pred):\n",
    "        # Atualização dos pesos\n",
    "        last_delta = self.cost_func(y, y_pred, derivative=True)\n",
    "        for layer in reversed(self.layers):\n",
    "            dactivation = layer.activation(layer._activ_inp, derivative=True) * last_delta * layer._dropout_mask\n",
    "            last_delta = np.dot(dactivation, layer.weights)\n",
    "            \n",
    "            layer._dweights = np.dot(dactivation.T, layer.input)\n",
    "            layer._dbiases = 1.0*dactivation.sum(axis=0, keepdims=True)\n",
    "\n",
    "        for layer in reversed(self.layers):\n",
    "            layer._dweights = layer._dweights + (1.0/y.shape[0]) * layer.reg_strenght * layer.reg_func(layer.weights, derivative=True)\n",
    "            layer.weights = layer.weights - self.learning_rate*layer._dweights\n",
    "            layer.biases = layer.biases - self.learning_rate*layer._dbiases\n",
    "        "
   ]
  },
  {
   "cell_type": "markdown",
   "id": "ea2d7b45",
   "metadata": {},
   "source": [
    "# Treino"
   ]
  },
  {
   "cell_type": "code",
   "execution_count": 7,
   "id": "0e941f0c",
   "metadata": {},
   "outputs": [],
   "source": [
    "X_train = np.genfromtxt('xtrain.csv', delimiter=',')\n",
    "y_train = np.genfromtxt('ytrain.csv', delimiter=',')"
   ]
  },
  {
   "cell_type": "code",
   "execution_count": 8,
   "id": "7edcf691",
   "metadata": {},
   "outputs": [
    {
     "data": {
      "text/plain": [
       "(783, 1)"
      ]
     },
     "execution_count": 8,
     "metadata": {},
     "output_type": "execute_result"
    }
   ],
   "source": [
    "y_train = y_train.reshape(-1,1)\n",
    "y_train.shape"
   ]
  },
  {
   "cell_type": "code",
   "execution_count": 9,
   "id": "48562eb9",
   "metadata": {},
   "outputs": [
    {
     "data": {
      "text/plain": [
       "(783, 4)"
      ]
     },
     "execution_count": 9,
     "metadata": {},
     "output_type": "execute_result"
    }
   ],
   "source": [
    "X_train.shape"
   ]
  },
  {
   "cell_type": "code",
   "execution_count": 10,
   "id": "18372d15",
   "metadata": {},
   "outputs": [
    {
     "name": "stdout",
     "output_type": "stream",
     "text": [
      "epoch:    0/2000 loss_train: 12.63578777\n",
      "epoch:  200/2000 loss_train: 0.30367413\n",
      "epoch:  400/2000 loss_train: 0.25612771\n",
      "epoch:  600/2000 loss_train: 0.24501331\n",
      "epoch:  800/2000 loss_train: 0.23976204\n",
      "epoch: 1000/2000 loss_train: 0.23563461\n",
      "epoch: 1200/2000 loss_train: 0.23176489\n",
      "epoch: 1400/2000 loss_train: 0.22855260\n",
      "epoch: 1600/2000 loss_train: 0.22573038\n",
      "epoch: 1800/2000 loss_train: 0.22306935\n",
      "epoch: 2000/2000 loss_train: 0.22052320\n"
     ]
    }
   ],
   "source": [
    "input_dim = X_train.shape[1]\n",
    "\n",
    "nn = NeuralNetwork(cost_func=mae, learning_rate=1e-3)\n",
    "\n",
    "#weights_initializer, dropout_prob, reg_func, reg_strenght\n",
    "nn.layers.append(Layer(input_dim=input_dim, output_dim=18, activation=relu, weights_initializer=glorot_normal, reg_strenght=0.1)) \n",
    "nn.layers.append(Layer(input_dim=18, output_dim=9, weights_initializer=glorot_normal, activation=relu)) \n",
    "nn.layers.append(Layer(input_dim=9, output_dim=5, weights_initializer=glorot_normal, activation=relu)) \n",
    "nn.layers.append(Layer(input_dim=5, output_dim=1, weights_initializer=glorot_normal, activation=linear)) \n",
    "\n",
    "nn.fit(X_train, y_train, epochs=2000, verbose=200)"
   ]
  },
  {
   "cell_type": "code",
   "execution_count": null,
   "id": "95bdc6b9",
   "metadata": {},
   "outputs": [],
   "source": []
  },
  {
   "cell_type": "code",
   "execution_count": null,
   "id": "2b62bc69",
   "metadata": {},
   "outputs": [],
   "source": []
  }
 ],
 "metadata": {
  "kernelspec": {
   "display_name": "Python 3 (ipykernel)",
   "language": "python",
   "name": "python3"
  },
  "language_info": {
   "codemirror_mode": {
    "name": "ipython",
    "version": 3
   },
   "file_extension": ".py",
   "mimetype": "text/x-python",
   "name": "python",
   "nbconvert_exporter": "python",
   "pygments_lexer": "ipython3",
   "version": "3.10.9"
  },
  "vscode": {
   "interpreter": {
    "hash": "0a292b490e86f4c929d1419110283d173ef6bc08b4a03640546d532aca137e54"
   }
  }
 },
 "nbformat": 4,
 "nbformat_minor": 5
}
